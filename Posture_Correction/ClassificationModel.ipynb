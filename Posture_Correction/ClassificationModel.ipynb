{
 "cells": [
  {
   "cell_type": "code",
   "execution_count": null,
   "id": "090ca87e-ff53-4ab9-8627-a35619575528",
   "metadata": {},
   "outputs": [],
   "source": [
    "import os\n",
    "import cv2\n",
    "import time\n",
    "import urllib\n",
    "import mediapipe as mp\n",
    "import numpy as np\n",
    "import pandas as pd\n",
    "import tensorflow as tf\n",
    "import keras\n",
    "from sklearn.preprocessing import MinMaxScaler\n",
    "from sklearn.model_selection import train_test_split\n",
    "from sklearn.neighbors import KNeighborsClassifier\n",
    "from sklearn.metrics import accuracy_score\n",
    "from PIL import Image\n",
    "from IPython.display import Image as IPyImage\n",
    "from matplotlib import pyplot as plt\n",
    "from tensorflow.keras.models import Sequential\n",
    "from tensorflow.keras.layers import LSTM, Dense\n",
    "from keras import layers\n",
    "from tensorflow.keras.models import Sequential\n",
    "from tensorflow.keras.layers import LSTM, Dense\n",
    "from collections import Counter\n",
    "mp_drawing = mp.solutions.drawing_utils\n",
    "mp_pose = mp.solutions.pose\n",
    "workpath = 'C:/Users/Legion/TFM/Tareas'\n",
    "os.chdir(workpath)\n",
    "import warnings\n",
    "warnings.filterwarnings(\"ignore\")"
   ]
  },
  {
   "cell_type": "markdown",
   "id": "5e51bbcc-45f2-4213-846a-b37d12e426cf",
   "metadata": {},
   "source": [
    "# LSTM Model"
   ]
  },
  {
   "cell_type": "code",
   "execution_count": 2,
   "id": "f7256538-24fa-4f0a-b1ab-bcb30ab55985",
   "metadata": {},
   "outputs": [],
   "source": [
    "# Crear secuencias\n",
    "def create_sequences(df, sequence_length):\n",
    "    sequences = []\n",
    "    labels = []\n",
    "    variables = list(df.columns)\n",
    "    variables.remove('label')\n",
    "    for i in range(len(df) - sequence_length + 1):\n",
    "        seq = df.iloc[i:i + sequence_length][variables].values\n",
    "        label = df.iloc[i + sequence_length - 1]['label']\n",
    "        sequences.append(seq)\n",
    "        labels.append(label)\n",
    "    return np.array(sequences), np.array(labels), len(variables)\n"
   ]
  },
  {
   "cell_type": "code",
   "execution_count": null,
   "id": "67a9d0dc-72f4-43d6-aff0-de986f48ca4b",
   "metadata": {
    "scrolled": true
   },
   "outputs": [],
   "source": [
    "# Usar archivos de Dataset\n",
    "vid_list = os.listdir(workpath+'/VideosTR/Data2model')\n",
    "abs_paths_csv = [workpath+'/VideosTR/Data2model/'+x for x in vid_list if '.csv' in x]\n",
    "abs_paths_csv"
   ]
  },
  {
   "cell_type": "code",
   "execution_count": 4,
   "id": "a4d491aa-bf7d-41e8-b3ae-4e2ab352b7c0",
   "metadata": {},
   "outputs": [],
   "source": [
    "# Crear secuencias para cada uno de los videos (100 frames por secuencia)\n",
    "secuencias = []\n",
    "labels = []\n",
    "sequence_length = 100\n",
    "label_dict = {'Dominada': 0, 'Fondo': 1,\n",
    "              'Flexione': 2, 'Sentadilla': 3,\n",
    "              'Standup': 4}\n",
    "for path in abs_paths_csv:\n",
    "    df = pd.read_csv(path, sep=';', index_col=0)\n",
    "    seq, lbl, ncols = create_sequences(df, sequence_length)\n",
    "    secuencias.append(seq)\n",
    "    labels.append(lbl)\n",
    "\n",
    "X = np.concatenate(secuencias)\n",
    "Y = np.concatenate(labels)"
   ]
  },
  {
   "cell_type": "code",
   "execution_count": 5,
   "id": "42133584-e4d6-4132-ab99-67ae3604c3cf",
   "metadata": {},
   "outputs": [],
   "source": [
    "X_train, X_test, y_train, y_test = train_test_split(X, Y, test_size=0.2, random_state=7294, stratify=Y)"
   ]
  },
  {
   "cell_type": "code",
   "execution_count": 9,
   "id": "6b1ba16c-e812-4b93-a123-0f1e93112513",
   "metadata": {},
   "outputs": [
    {
     "data": {
      "text/html": [
       "<pre style=\"white-space:pre;overflow-x:auto;line-height:normal;font-family:Menlo,'DejaVu Sans Mono',consolas,'Courier New',monospace\"><span style=\"font-weight: bold\">Model: \"sequential_1\"</span>\n",
       "</pre>\n"
      ],
      "text/plain": [
       "\u001b[1mModel: \"sequential_1\"\u001b[0m\n"
      ]
     },
     "metadata": {},
     "output_type": "display_data"
    },
    {
     "data": {
      "text/html": [
       "<pre style=\"white-space:pre;overflow-x:auto;line-height:normal;font-family:Menlo,'DejaVu Sans Mono',consolas,'Courier New',monospace\">┏━━━━━━━━━━━━━━━━━━━━━━━━━━━━━━━━━━━━━━┳━━━━━━━━━━━━━━━━━━━━━━━━━━━━━┳━━━━━━━━━━━━━━━━━┓\n",
       "┃<span style=\"font-weight: bold\"> Layer (type)                         </span>┃<span style=\"font-weight: bold\"> Output Shape                </span>┃<span style=\"font-weight: bold\">         Param # </span>┃\n",
       "┡━━━━━━━━━━━━━━━━━━━━━━━━━━━━━━━━━━━━━━╇━━━━━━━━━━━━━━━━━━━━━━━━━━━━━╇━━━━━━━━━━━━━━━━━┩\n",
       "│ bidirectional_2 (<span style=\"color: #0087ff; text-decoration-color: #0087ff\">Bidirectional</span>)      │ (<span style=\"color: #00d7ff; text-decoration-color: #00d7ff\">None</span>, <span style=\"color: #00af00; text-decoration-color: #00af00\">100</span>, <span style=\"color: #00af00; text-decoration-color: #00af00\">128</span>)            │          <span style=\"color: #00af00; text-decoration-color: #00af00\">66,560</span> │\n",
       "├──────────────────────────────────────┼─────────────────────────────┼─────────────────┤\n",
       "│ bidirectional_3 (<span style=\"color: #0087ff; text-decoration-color: #0087ff\">Bidirectional</span>)      │ (<span style=\"color: #00d7ff; text-decoration-color: #00d7ff\">None</span>, <span style=\"color: #00af00; text-decoration-color: #00af00\">64</span>)                  │          <span style=\"color: #00af00; text-decoration-color: #00af00\">41,216</span> │\n",
       "├──────────────────────────────────────┼─────────────────────────────┼─────────────────┤\n",
       "│ dense_1 (<span style=\"color: #0087ff; text-decoration-color: #0087ff\">Dense</span>)                      │ (<span style=\"color: #00d7ff; text-decoration-color: #00d7ff\">None</span>, <span style=\"color: #00af00; text-decoration-color: #00af00\">5</span>)                   │             <span style=\"color: #00af00; text-decoration-color: #00af00\">325</span> │\n",
       "└──────────────────────────────────────┴─────────────────────────────┴─────────────────┘\n",
       "</pre>\n"
      ],
      "text/plain": [
       "┏━━━━━━━━━━━━━━━━━━━━━━━━━━━━━━━━━━━━━━┳━━━━━━━━━━━━━━━━━━━━━━━━━━━━━┳━━━━━━━━━━━━━━━━━┓\n",
       "┃\u001b[1m \u001b[0m\u001b[1mLayer (type)                        \u001b[0m\u001b[1m \u001b[0m┃\u001b[1m \u001b[0m\u001b[1mOutput Shape               \u001b[0m\u001b[1m \u001b[0m┃\u001b[1m \u001b[0m\u001b[1m        Param #\u001b[0m\u001b[1m \u001b[0m┃\n",
       "┡━━━━━━━━━━━━━━━━━━━━━━━━━━━━━━━━━━━━━━╇━━━━━━━━━━━━━━━━━━━━━━━━━━━━━╇━━━━━━━━━━━━━━━━━┩\n",
       "│ bidirectional_2 (\u001b[38;5;33mBidirectional\u001b[0m)      │ (\u001b[38;5;45mNone\u001b[0m, \u001b[38;5;34m100\u001b[0m, \u001b[38;5;34m128\u001b[0m)            │          \u001b[38;5;34m66,560\u001b[0m │\n",
       "├──────────────────────────────────────┼─────────────────────────────┼─────────────────┤\n",
       "│ bidirectional_3 (\u001b[38;5;33mBidirectional\u001b[0m)      │ (\u001b[38;5;45mNone\u001b[0m, \u001b[38;5;34m64\u001b[0m)                  │          \u001b[38;5;34m41,216\u001b[0m │\n",
       "├──────────────────────────────────────┼─────────────────────────────┼─────────────────┤\n",
       "│ dense_1 (\u001b[38;5;33mDense\u001b[0m)                      │ (\u001b[38;5;45mNone\u001b[0m, \u001b[38;5;34m5\u001b[0m)                   │             \u001b[38;5;34m325\u001b[0m │\n",
       "└──────────────────────────────────────┴─────────────────────────────┴─────────────────┘\n"
      ]
     },
     "metadata": {},
     "output_type": "display_data"
    },
    {
     "data": {
      "text/html": [
       "<pre style=\"white-space:pre;overflow-x:auto;line-height:normal;font-family:Menlo,'DejaVu Sans Mono',consolas,'Courier New',monospace\"><span style=\"font-weight: bold\"> Total params: </span><span style=\"color: #00af00; text-decoration-color: #00af00\">108,101</span> (422.27 KB)\n",
       "</pre>\n"
      ],
      "text/plain": [
       "\u001b[1m Total params: \u001b[0m\u001b[38;5;34m108,101\u001b[0m (422.27 KB)\n"
      ]
     },
     "metadata": {},
     "output_type": "display_data"
    },
    {
     "data": {
      "text/html": [
       "<pre style=\"white-space:pre;overflow-x:auto;line-height:normal;font-family:Menlo,'DejaVu Sans Mono',consolas,'Courier New',monospace\"><span style=\"font-weight: bold\"> Trainable params: </span><span style=\"color: #00af00; text-decoration-color: #00af00\">108,101</span> (422.27 KB)\n",
       "</pre>\n"
      ],
      "text/plain": [
       "\u001b[1m Trainable params: \u001b[0m\u001b[38;5;34m108,101\u001b[0m (422.27 KB)\n"
      ]
     },
     "metadata": {},
     "output_type": "display_data"
    },
    {
     "data": {
      "text/html": [
       "<pre style=\"white-space:pre;overflow-x:auto;line-height:normal;font-family:Menlo,'DejaVu Sans Mono',consolas,'Courier New',monospace\"><span style=\"font-weight: bold\"> Non-trainable params: </span><span style=\"color: #00af00; text-decoration-color: #00af00\">0</span> (0.00 B)\n",
       "</pre>\n"
      ],
      "text/plain": [
       "\u001b[1m Non-trainable params: \u001b[0m\u001b[38;5;34m0\u001b[0m (0.00 B)\n"
      ]
     },
     "metadata": {},
     "output_type": "display_data"
    }
   ],
   "source": [
    "\n",
    "model = keras.Sequential()\n",
    "\n",
    "# If you crete a second layer you must set return_sequences=True\n",
    "model.add(\n",
    "    layers.Bidirectional(layers.LSTM(64, return_sequences=True), input_shape=(sequence_length, ncols))\n",
    ")\n",
    "# Second Bidirectional layer\n",
    "model.add(layers.Bidirectional(layers.LSTM(32)))\n",
    "# Output\n",
    "model.add(layers.Dense(5, activation= 'softmax'))\n",
    "\n",
    "model.compile(optimizer='adam', loss='sparse_categorical_crossentropy', metrics=['accuracy'])  # Usar 'sparse_categorical_crossentropy' para clasificación multiclase\n",
    "\n",
    "model.summary()"
   ]
  },
  {
   "cell_type": "code",
   "execution_count": 17,
   "id": "08ec0143-6dc9-4631-bba1-6b105b2f7321",
   "metadata": {},
   "outputs": [
    {
     "name": "stdout",
     "output_type": "stream",
     "text": [
      "Epoch 1/50\n",
      "\u001b[1m1361/1361\u001b[0m \u001b[32m━━━━━━━━━━━━━━━━━━━━\u001b[0m\u001b[37m\u001b[0m \u001b[1m33s\u001b[0m 21ms/step - accuracy: 0.8860 - loss: 0.3196 - val_accuracy: 0.9043 - val_loss: 0.2417\n",
      "Epoch 2/50\n",
      "\u001b[1m1361/1361\u001b[0m \u001b[32m━━━━━━━━━━━━━━━━━━━━\u001b[0m\u001b[37m\u001b[0m \u001b[1m28s\u001b[0m 20ms/step - accuracy: 0.9780 - loss: 0.0694 - val_accuracy: 0.9910 - val_loss: 0.0321\n",
      "Epoch 3/50\n",
      "\u001b[1m1361/1361\u001b[0m \u001b[32m━━━━━━━━━━━━━━━━━━━━\u001b[0m\u001b[37m\u001b[0m \u001b[1m28s\u001b[0m 20ms/step - accuracy: 0.9857 - loss: 0.0455 - val_accuracy: 0.9841 - val_loss: 0.0546\n",
      "Epoch 4/50\n",
      "\u001b[1m1361/1361\u001b[0m \u001b[32m━━━━━━━━━━━━━━━━━━━━\u001b[0m\u001b[37m\u001b[0m \u001b[1m28s\u001b[0m 20ms/step - accuracy: 0.9905 - loss: 0.0285 - val_accuracy: 0.9947 - val_loss: 0.0198\n",
      "Epoch 5/50\n",
      "\u001b[1m1361/1361\u001b[0m \u001b[32m━━━━━━━━━━━━━━━━━━━━\u001b[0m\u001b[37m\u001b[0m \u001b[1m28s\u001b[0m 21ms/step - accuracy: 0.9914 - loss: 0.0264 - val_accuracy: 0.9969 - val_loss: 0.0098\n",
      "Epoch 6/50\n",
      "\u001b[1m1361/1361\u001b[0m \u001b[32m━━━━━━━━━━━━━━━━━━━━\u001b[0m\u001b[37m\u001b[0m \u001b[1m28s\u001b[0m 21ms/step - accuracy: 0.9948 - loss: 0.0176 - val_accuracy: 0.9983 - val_loss: 0.0049\n",
      "Epoch 7/50\n",
      "\u001b[1m1361/1361\u001b[0m \u001b[32m━━━━━━━━━━━━━━━━━━━━\u001b[0m\u001b[37m\u001b[0m \u001b[1m28s\u001b[0m 20ms/step - accuracy: 0.9925 - loss: 0.0235 - val_accuracy: 0.9907 - val_loss: 0.0220\n",
      "Epoch 8/50\n",
      "\u001b[1m1361/1361\u001b[0m \u001b[32m━━━━━━━━━━━━━━━━━━━━\u001b[0m\u001b[37m\u001b[0m \u001b[1m29s\u001b[0m 21ms/step - accuracy: 0.9947 - loss: 0.0166 - val_accuracy: 0.9983 - val_loss: 0.0050\n",
      "Epoch 9/50\n",
      "\u001b[1m1361/1361\u001b[0m \u001b[32m━━━━━━━━━━━━━━━━━━━━\u001b[0m\u001b[37m\u001b[0m \u001b[1m32s\u001b[0m 24ms/step - accuracy: 0.9937 - loss: 0.0203 - val_accuracy: 0.9943 - val_loss: 0.0205\n",
      "Epoch 10/50\n",
      "\u001b[1m1361/1361\u001b[0m \u001b[32m━━━━━━━━━━━━━━━━━━━━\u001b[0m\u001b[37m\u001b[0m \u001b[1m34s\u001b[0m 25ms/step - accuracy: 0.9964 - loss: 0.0117 - val_accuracy: 0.9979 - val_loss: 0.0080\n",
      "Epoch 11/50\n",
      "\u001b[1m1361/1361\u001b[0m \u001b[32m━━━━━━━━━━━━━━━━━━━━\u001b[0m\u001b[37m\u001b[0m \u001b[1m34s\u001b[0m 25ms/step - accuracy: 0.9972 - loss: 0.0086 - val_accuracy: 0.9420 - val_loss: 0.2141\n",
      "Epoch 12/50\n",
      "\u001b[1m1361/1361\u001b[0m \u001b[32m━━━━━━━━━━━━━━━━━━━━\u001b[0m\u001b[37m\u001b[0m \u001b[1m35s\u001b[0m 26ms/step - accuracy: 0.9956 - loss: 0.0155 - val_accuracy: 0.9972 - val_loss: 0.0075\n",
      "Epoch 13/50\n",
      "\u001b[1m1361/1361\u001b[0m \u001b[32m━━━━━━━━━━━━━━━━━━━━\u001b[0m\u001b[37m\u001b[0m \u001b[1m35s\u001b[0m 26ms/step - accuracy: 0.9995 - loss: 0.0016 - val_accuracy: 0.9900 - val_loss: 0.0335\n",
      "Epoch 14/50\n",
      "\u001b[1m1361/1361\u001b[0m \u001b[32m━━━━━━━━━━━━━━━━━━━━\u001b[0m\u001b[37m\u001b[0m \u001b[1m35s\u001b[0m 26ms/step - accuracy: 0.9957 - loss: 0.0130 - val_accuracy: 0.9974 - val_loss: 0.0072\n",
      "Epoch 15/50\n",
      "\u001b[1m1361/1361\u001b[0m \u001b[32m━━━━━━━━━━━━━━━━━━━━\u001b[0m\u001b[37m\u001b[0m \u001b[1m41s\u001b[0m 26ms/step - accuracy: 0.9985 - loss: 0.0051 - val_accuracy: 0.9982 - val_loss: 0.0063\n",
      "Epoch 16/50\n",
      "\u001b[1m1361/1361\u001b[0m \u001b[32m━━━━━━━━━━━━━━━━━━━━\u001b[0m\u001b[37m\u001b[0m \u001b[1m34s\u001b[0m 25ms/step - accuracy: 0.9986 - loss: 0.0049 - val_accuracy: 0.9977 - val_loss: 0.0083\n",
      "Epoch 17/50\n",
      "\u001b[1m1361/1361\u001b[0m \u001b[32m━━━━━━━━━━━━━━━━━━━━\u001b[0m\u001b[37m\u001b[0m \u001b[1m36s\u001b[0m 27ms/step - accuracy: 0.9992 - loss: 0.0027 - val_accuracy: 1.0000 - val_loss: 1.0839e-04\n",
      "Epoch 18/50\n",
      "\u001b[1m1361/1361\u001b[0m \u001b[32m━━━━━━━━━━━━━━━━━━━━\u001b[0m\u001b[37m\u001b[0m \u001b[1m35s\u001b[0m 26ms/step - accuracy: 1.0000 - loss: 5.4030e-05 - val_accuracy: 1.0000 - val_loss: 3.5713e-05\n",
      "Epoch 19/50\n",
      "\u001b[1m1361/1361\u001b[0m \u001b[32m━━━━━━━━━━━━━━━━━━━━\u001b[0m\u001b[37m\u001b[0m \u001b[1m35s\u001b[0m 25ms/step - accuracy: 1.0000 - loss: 2.1226e-05 - val_accuracy: 1.0000 - val_loss: 1.5205e-05\n",
      "Epoch 20/50\n",
      "\u001b[1m1361/1361\u001b[0m \u001b[32m━━━━━━━━━━━━━━━━━━━━\u001b[0m\u001b[37m\u001b[0m \u001b[1m35s\u001b[0m 25ms/step - accuracy: 1.0000 - loss: 8.6278e-06 - val_accuracy: 1.0000 - val_loss: 8.2864e-06\n",
      "Epoch 21/50\n",
      "\u001b[1m1361/1361\u001b[0m \u001b[32m━━━━━━━━━━━━━━━━━━━━\u001b[0m\u001b[37m\u001b[0m \u001b[1m35s\u001b[0m 26ms/step - accuracy: 1.0000 - loss: 4.5666e-06 - val_accuracy: 1.0000 - val_loss: 3.3189e-06\n",
      "Epoch 22/50\n",
      "\u001b[1m1361/1361\u001b[0m \u001b[32m━━━━━━━━━━━━━━━━━━━━\u001b[0m\u001b[37m\u001b[0m \u001b[1m35s\u001b[0m 26ms/step - accuracy: 1.0000 - loss: 2.5925e-06 - val_accuracy: 1.0000 - val_loss: 1.4009e-06\n",
      "Epoch 23/50\n",
      "\u001b[1m1361/1361\u001b[0m \u001b[32m━━━━━━━━━━━━━━━━━━━━\u001b[0m\u001b[37m\u001b[0m \u001b[1m35s\u001b[0m 26ms/step - accuracy: 1.0000 - loss: 8.5935e-07 - val_accuracy: 1.0000 - val_loss: 7.2017e-07\n",
      "Epoch 24/50\n",
      "\u001b[1m1361/1361\u001b[0m \u001b[32m━━━━━━━━━━━━━━━━━━━━\u001b[0m\u001b[37m\u001b[0m \u001b[1m35s\u001b[0m 25ms/step - accuracy: 1.0000 - loss: 4.7374e-07 - val_accuracy: 1.0000 - val_loss: 3.9363e-07\n",
      "Epoch 25/50\n",
      "\u001b[1m1361/1361\u001b[0m \u001b[32m━━━━━━━━━━━━━━━━━━━━\u001b[0m\u001b[37m\u001b[0m \u001b[1m33s\u001b[0m 24ms/step - accuracy: 1.0000 - loss: 2.2208e-07 - val_accuracy: 1.0000 - val_loss: 2.8215e-07\n",
      "Epoch 26/50\n",
      "\u001b[1m1360/1361\u001b[0m \u001b[32m━━━━━━━━━━━━━━━━━━━\u001b[0m\u001b[37m━\u001b[0m \u001b[1m0s\u001b[0m 20ms/step - accuracy: 1.0000 - loss: 1.0667e-07"
     ]
    },
    {
     "ename": "KeyboardInterrupt",
     "evalue": "",
     "output_type": "error",
     "traceback": [
      "\u001b[1;31m---------------------------------------------------------------------------\u001b[0m",
      "\u001b[1;31mKeyboardInterrupt\u001b[0m                         Traceback (most recent call last)",
      "Cell \u001b[1;32mIn[17], line 2\u001b[0m\n\u001b[0;32m      1\u001b[0m \u001b[38;5;66;03m# Entrenar el modelo\u001b[39;00m\n\u001b[1;32m----> 2\u001b[0m history \u001b[38;5;241m=\u001b[39m \u001b[43mmodel\u001b[49m\u001b[38;5;241;43m.\u001b[39;49m\u001b[43mfit\u001b[49m\u001b[43m(\u001b[49m\u001b[43mX_train\u001b[49m\u001b[43m,\u001b[49m\u001b[43m \u001b[49m\u001b[43my_train\u001b[49m\u001b[43m,\u001b[49m\u001b[43m \u001b[49m\u001b[43mepochs\u001b[49m\u001b[38;5;241;43m=\u001b[39;49m\u001b[38;5;241;43m50\u001b[39;49m\u001b[43m,\u001b[49m\u001b[43m \u001b[49m\u001b[43mbatch_size\u001b[49m\u001b[38;5;241;43m=\u001b[39;49m\u001b[38;5;241;43m32\u001b[39;49m\u001b[43m,\u001b[49m\u001b[43m \u001b[49m\u001b[43mvalidation_split\u001b[49m\u001b[38;5;241;43m=\u001b[39;49m\u001b[38;5;241;43m0.2\u001b[39;49m\u001b[43m)\u001b[49m\n",
      "File \u001b[1;32m~\\TFM\\Lib\\site-packages\\keras\\src\\utils\\traceback_utils.py:117\u001b[0m, in \u001b[0;36mfilter_traceback.<locals>.error_handler\u001b[1;34m(*args, **kwargs)\u001b[0m\n\u001b[0;32m    115\u001b[0m filtered_tb \u001b[38;5;241m=\u001b[39m \u001b[38;5;28;01mNone\u001b[39;00m\n\u001b[0;32m    116\u001b[0m \u001b[38;5;28;01mtry\u001b[39;00m:\n\u001b[1;32m--> 117\u001b[0m     \u001b[38;5;28;01mreturn\u001b[39;00m \u001b[43mfn\u001b[49m\u001b[43m(\u001b[49m\u001b[38;5;241;43m*\u001b[39;49m\u001b[43margs\u001b[49m\u001b[43m,\u001b[49m\u001b[43m \u001b[49m\u001b[38;5;241;43m*\u001b[39;49m\u001b[38;5;241;43m*\u001b[39;49m\u001b[43mkwargs\u001b[49m\u001b[43m)\u001b[49m\n\u001b[0;32m    118\u001b[0m \u001b[38;5;28;01mexcept\u001b[39;00m \u001b[38;5;167;01mException\u001b[39;00m \u001b[38;5;28;01mas\u001b[39;00m e:\n\u001b[0;32m    119\u001b[0m     filtered_tb \u001b[38;5;241m=\u001b[39m _process_traceback_frames(e\u001b[38;5;241m.\u001b[39m__traceback__)\n",
      "File \u001b[1;32m~\\TFM\\Lib\\site-packages\\keras\\src\\backend\\tensorflow\\trainer.py:343\u001b[0m, in \u001b[0;36mTensorFlowTrainer.fit\u001b[1;34m(self, x, y, batch_size, epochs, verbose, callbacks, validation_split, validation_data, shuffle, class_weight, sample_weight, initial_epoch, steps_per_epoch, validation_steps, validation_batch_size, validation_freq)\u001b[0m\n\u001b[0;32m    332\u001b[0m \u001b[38;5;28;01mif\u001b[39;00m \u001b[38;5;28mgetattr\u001b[39m(\u001b[38;5;28mself\u001b[39m, \u001b[38;5;124m\"\u001b[39m\u001b[38;5;124m_eval_epoch_iterator\u001b[39m\u001b[38;5;124m\"\u001b[39m, \u001b[38;5;28;01mNone\u001b[39;00m) \u001b[38;5;129;01mis\u001b[39;00m \u001b[38;5;28;01mNone\u001b[39;00m:\n\u001b[0;32m    333\u001b[0m     \u001b[38;5;28mself\u001b[39m\u001b[38;5;241m.\u001b[39m_eval_epoch_iterator \u001b[38;5;241m=\u001b[39m TFEpochIterator(\n\u001b[0;32m    334\u001b[0m         x\u001b[38;5;241m=\u001b[39mval_x,\n\u001b[0;32m    335\u001b[0m         y\u001b[38;5;241m=\u001b[39mval_y,\n\u001b[1;32m   (...)\u001b[0m\n\u001b[0;32m    341\u001b[0m         shuffle\u001b[38;5;241m=\u001b[39m\u001b[38;5;28;01mFalse\u001b[39;00m,\n\u001b[0;32m    342\u001b[0m     )\n\u001b[1;32m--> 343\u001b[0m val_logs \u001b[38;5;241m=\u001b[39m \u001b[38;5;28;43mself\u001b[39;49m\u001b[38;5;241;43m.\u001b[39;49m\u001b[43mevaluate\u001b[49m\u001b[43m(\u001b[49m\n\u001b[0;32m    344\u001b[0m \u001b[43m    \u001b[49m\u001b[43mx\u001b[49m\u001b[38;5;241;43m=\u001b[39;49m\u001b[43mval_x\u001b[49m\u001b[43m,\u001b[49m\n\u001b[0;32m    345\u001b[0m \u001b[43m    \u001b[49m\u001b[43my\u001b[49m\u001b[38;5;241;43m=\u001b[39;49m\u001b[43mval_y\u001b[49m\u001b[43m,\u001b[49m\n\u001b[0;32m    346\u001b[0m \u001b[43m    \u001b[49m\u001b[43msample_weight\u001b[49m\u001b[38;5;241;43m=\u001b[39;49m\u001b[43mval_sample_weight\u001b[49m\u001b[43m,\u001b[49m\n\u001b[0;32m    347\u001b[0m \u001b[43m    \u001b[49m\u001b[43mbatch_size\u001b[49m\u001b[38;5;241;43m=\u001b[39;49m\u001b[43mvalidation_batch_size\u001b[49m\u001b[43m \u001b[49m\u001b[38;5;129;43;01mor\u001b[39;49;00m\u001b[43m \u001b[49m\u001b[43mbatch_size\u001b[49m\u001b[43m,\u001b[49m\n\u001b[0;32m    348\u001b[0m \u001b[43m    \u001b[49m\u001b[43msteps\u001b[49m\u001b[38;5;241;43m=\u001b[39;49m\u001b[43mvalidation_steps\u001b[49m\u001b[43m,\u001b[49m\n\u001b[0;32m    349\u001b[0m \u001b[43m    \u001b[49m\u001b[43mcallbacks\u001b[49m\u001b[38;5;241;43m=\u001b[39;49m\u001b[43mcallbacks\u001b[49m\u001b[43m,\u001b[49m\n\u001b[0;32m    350\u001b[0m \u001b[43m    \u001b[49m\u001b[43mreturn_dict\u001b[49m\u001b[38;5;241;43m=\u001b[39;49m\u001b[38;5;28;43;01mTrue\u001b[39;49;00m\u001b[43m,\u001b[49m\n\u001b[0;32m    351\u001b[0m \u001b[43m    \u001b[49m\u001b[43m_use_cached_eval_dataset\u001b[49m\u001b[38;5;241;43m=\u001b[39;49m\u001b[38;5;28;43;01mTrue\u001b[39;49;00m\u001b[43m,\u001b[49m\n\u001b[0;32m    352\u001b[0m \u001b[43m\u001b[49m\u001b[43m)\u001b[49m\n\u001b[0;32m    353\u001b[0m val_logs \u001b[38;5;241m=\u001b[39m {\n\u001b[0;32m    354\u001b[0m     \u001b[38;5;124m\"\u001b[39m\u001b[38;5;124mval_\u001b[39m\u001b[38;5;124m\"\u001b[39m \u001b[38;5;241m+\u001b[39m name: val \u001b[38;5;28;01mfor\u001b[39;00m name, val \u001b[38;5;129;01min\u001b[39;00m val_logs\u001b[38;5;241m.\u001b[39mitems()\n\u001b[0;32m    355\u001b[0m }\n\u001b[0;32m    356\u001b[0m epoch_logs\u001b[38;5;241m.\u001b[39mupdate(val_logs)\n",
      "File \u001b[1;32m~\\TFM\\Lib\\site-packages\\keras\\src\\utils\\traceback_utils.py:117\u001b[0m, in \u001b[0;36mfilter_traceback.<locals>.error_handler\u001b[1;34m(*args, **kwargs)\u001b[0m\n\u001b[0;32m    115\u001b[0m filtered_tb \u001b[38;5;241m=\u001b[39m \u001b[38;5;28;01mNone\u001b[39;00m\n\u001b[0;32m    116\u001b[0m \u001b[38;5;28;01mtry\u001b[39;00m:\n\u001b[1;32m--> 117\u001b[0m     \u001b[38;5;28;01mreturn\u001b[39;00m \u001b[43mfn\u001b[49m\u001b[43m(\u001b[49m\u001b[38;5;241;43m*\u001b[39;49m\u001b[43margs\u001b[49m\u001b[43m,\u001b[49m\u001b[43m \u001b[49m\u001b[38;5;241;43m*\u001b[39;49m\u001b[38;5;241;43m*\u001b[39;49m\u001b[43mkwargs\u001b[49m\u001b[43m)\u001b[49m\n\u001b[0;32m    118\u001b[0m \u001b[38;5;28;01mexcept\u001b[39;00m \u001b[38;5;167;01mException\u001b[39;00m \u001b[38;5;28;01mas\u001b[39;00m e:\n\u001b[0;32m    119\u001b[0m     filtered_tb \u001b[38;5;241m=\u001b[39m _process_traceback_frames(e\u001b[38;5;241m.\u001b[39m__traceback__)\n",
      "File \u001b[1;32m~\\TFM\\Lib\\site-packages\\keras\\src\\backend\\tensorflow\\trainer.py:429\u001b[0m, in \u001b[0;36mTensorFlowTrainer.evaluate\u001b[1;34m(self, x, y, batch_size, verbose, sample_weight, steps, callbacks, return_dict, **kwargs)\u001b[0m\n\u001b[0;32m    427\u001b[0m \u001b[38;5;28;01mfor\u001b[39;00m step, iterator \u001b[38;5;129;01min\u001b[39;00m epoch_iterator\u001b[38;5;241m.\u001b[39menumerate_epoch():\n\u001b[0;32m    428\u001b[0m     callbacks\u001b[38;5;241m.\u001b[39mon_test_batch_begin(step)\n\u001b[1;32m--> 429\u001b[0m     logs \u001b[38;5;241m=\u001b[39m \u001b[38;5;28;43mself\u001b[39;49m\u001b[38;5;241;43m.\u001b[39;49m\u001b[43mtest_function\u001b[49m\u001b[43m(\u001b[49m\u001b[43miterator\u001b[49m\u001b[43m)\u001b[49m\n\u001b[0;32m    430\u001b[0m     logs \u001b[38;5;241m=\u001b[39m \u001b[38;5;28mself\u001b[39m\u001b[38;5;241m.\u001b[39m_pythonify_logs(logs)\n\u001b[0;32m    431\u001b[0m     callbacks\u001b[38;5;241m.\u001b[39mon_test_batch_end(step, logs)\n",
      "File \u001b[1;32m~\\TFM\\Lib\\site-packages\\tensorflow\\python\\util\\traceback_utils.py:150\u001b[0m, in \u001b[0;36mfilter_traceback.<locals>.error_handler\u001b[1;34m(*args, **kwargs)\u001b[0m\n\u001b[0;32m    148\u001b[0m filtered_tb \u001b[38;5;241m=\u001b[39m \u001b[38;5;28;01mNone\u001b[39;00m\n\u001b[0;32m    149\u001b[0m \u001b[38;5;28;01mtry\u001b[39;00m:\n\u001b[1;32m--> 150\u001b[0m   \u001b[38;5;28;01mreturn\u001b[39;00m \u001b[43mfn\u001b[49m\u001b[43m(\u001b[49m\u001b[38;5;241;43m*\u001b[39;49m\u001b[43margs\u001b[49m\u001b[43m,\u001b[49m\u001b[43m \u001b[49m\u001b[38;5;241;43m*\u001b[39;49m\u001b[38;5;241;43m*\u001b[39;49m\u001b[43mkwargs\u001b[49m\u001b[43m)\u001b[49m\n\u001b[0;32m    151\u001b[0m \u001b[38;5;28;01mexcept\u001b[39;00m \u001b[38;5;167;01mException\u001b[39;00m \u001b[38;5;28;01mas\u001b[39;00m e:\n\u001b[0;32m    152\u001b[0m   filtered_tb \u001b[38;5;241m=\u001b[39m _process_traceback_frames(e\u001b[38;5;241m.\u001b[39m__traceback__)\n",
      "File \u001b[1;32m~\\TFM\\Lib\\site-packages\\tensorflow\\python\\eager\\polymorphic_function\\polymorphic_function.py:833\u001b[0m, in \u001b[0;36mFunction.__call__\u001b[1;34m(self, *args, **kwds)\u001b[0m\n\u001b[0;32m    830\u001b[0m compiler \u001b[38;5;241m=\u001b[39m \u001b[38;5;124m\"\u001b[39m\u001b[38;5;124mxla\u001b[39m\u001b[38;5;124m\"\u001b[39m \u001b[38;5;28;01mif\u001b[39;00m \u001b[38;5;28mself\u001b[39m\u001b[38;5;241m.\u001b[39m_jit_compile \u001b[38;5;28;01melse\u001b[39;00m \u001b[38;5;124m\"\u001b[39m\u001b[38;5;124mnonXla\u001b[39m\u001b[38;5;124m\"\u001b[39m\n\u001b[0;32m    832\u001b[0m \u001b[38;5;28;01mwith\u001b[39;00m OptionalXlaContext(\u001b[38;5;28mself\u001b[39m\u001b[38;5;241m.\u001b[39m_jit_compile):\n\u001b[1;32m--> 833\u001b[0m   result \u001b[38;5;241m=\u001b[39m \u001b[38;5;28;43mself\u001b[39;49m\u001b[38;5;241;43m.\u001b[39;49m\u001b[43m_call\u001b[49m\u001b[43m(\u001b[49m\u001b[38;5;241;43m*\u001b[39;49m\u001b[43margs\u001b[49m\u001b[43m,\u001b[49m\u001b[43m \u001b[49m\u001b[38;5;241;43m*\u001b[39;49m\u001b[38;5;241;43m*\u001b[39;49m\u001b[43mkwds\u001b[49m\u001b[43m)\u001b[49m\n\u001b[0;32m    835\u001b[0m new_tracing_count \u001b[38;5;241m=\u001b[39m \u001b[38;5;28mself\u001b[39m\u001b[38;5;241m.\u001b[39mexperimental_get_tracing_count()\n\u001b[0;32m    836\u001b[0m without_tracing \u001b[38;5;241m=\u001b[39m (tracing_count \u001b[38;5;241m==\u001b[39m new_tracing_count)\n",
      "File \u001b[1;32m~\\TFM\\Lib\\site-packages\\tensorflow\\python\\eager\\polymorphic_function\\polymorphic_function.py:878\u001b[0m, in \u001b[0;36mFunction._call\u001b[1;34m(self, *args, **kwds)\u001b[0m\n\u001b[0;32m    875\u001b[0m \u001b[38;5;28mself\u001b[39m\u001b[38;5;241m.\u001b[39m_lock\u001b[38;5;241m.\u001b[39mrelease()\n\u001b[0;32m    876\u001b[0m \u001b[38;5;66;03m# In this case we have not created variables on the first call. So we can\u001b[39;00m\n\u001b[0;32m    877\u001b[0m \u001b[38;5;66;03m# run the first trace but we should fail if variables are created.\u001b[39;00m\n\u001b[1;32m--> 878\u001b[0m results \u001b[38;5;241m=\u001b[39m \u001b[43mtracing_compilation\u001b[49m\u001b[38;5;241;43m.\u001b[39;49m\u001b[43mcall_function\u001b[49m\u001b[43m(\u001b[49m\n\u001b[0;32m    879\u001b[0m \u001b[43m    \u001b[49m\u001b[43margs\u001b[49m\u001b[43m,\u001b[49m\u001b[43m \u001b[49m\u001b[43mkwds\u001b[49m\u001b[43m,\u001b[49m\u001b[43m \u001b[49m\u001b[38;5;28;43mself\u001b[39;49m\u001b[38;5;241;43m.\u001b[39;49m\u001b[43m_variable_creation_config\u001b[49m\n\u001b[0;32m    880\u001b[0m \u001b[43m\u001b[49m\u001b[43m)\u001b[49m\n\u001b[0;32m    881\u001b[0m \u001b[38;5;28;01mif\u001b[39;00m \u001b[38;5;28mself\u001b[39m\u001b[38;5;241m.\u001b[39m_created_variables:\n\u001b[0;32m    882\u001b[0m   \u001b[38;5;28;01mraise\u001b[39;00m \u001b[38;5;167;01mValueError\u001b[39;00m(\u001b[38;5;124m\"\u001b[39m\u001b[38;5;124mCreating variables on a non-first call to a function\u001b[39m\u001b[38;5;124m\"\u001b[39m\n\u001b[0;32m    883\u001b[0m                    \u001b[38;5;124m\"\u001b[39m\u001b[38;5;124m decorated with tf.function.\u001b[39m\u001b[38;5;124m\"\u001b[39m)\n",
      "File \u001b[1;32m~\\TFM\\Lib\\site-packages\\tensorflow\\python\\eager\\polymorphic_function\\tracing_compilation.py:139\u001b[0m, in \u001b[0;36mcall_function\u001b[1;34m(args, kwargs, tracing_options)\u001b[0m\n\u001b[0;32m    137\u001b[0m bound_args \u001b[38;5;241m=\u001b[39m function\u001b[38;5;241m.\u001b[39mfunction_type\u001b[38;5;241m.\u001b[39mbind(\u001b[38;5;241m*\u001b[39margs, \u001b[38;5;241m*\u001b[39m\u001b[38;5;241m*\u001b[39mkwargs)\n\u001b[0;32m    138\u001b[0m flat_inputs \u001b[38;5;241m=\u001b[39m function\u001b[38;5;241m.\u001b[39mfunction_type\u001b[38;5;241m.\u001b[39munpack_inputs(bound_args)\n\u001b[1;32m--> 139\u001b[0m \u001b[38;5;28;01mreturn\u001b[39;00m \u001b[43mfunction\u001b[49m\u001b[38;5;241;43m.\u001b[39;49m\u001b[43m_call_flat\u001b[49m\u001b[43m(\u001b[49m\u001b[43m  \u001b[49m\u001b[38;5;66;43;03m# pylint: disable=protected-access\u001b[39;49;00m\n\u001b[0;32m    140\u001b[0m \u001b[43m    \u001b[49m\u001b[43mflat_inputs\u001b[49m\u001b[43m,\u001b[49m\u001b[43m \u001b[49m\u001b[43mcaptured_inputs\u001b[49m\u001b[38;5;241;43m=\u001b[39;49m\u001b[43mfunction\u001b[49m\u001b[38;5;241;43m.\u001b[39;49m\u001b[43mcaptured_inputs\u001b[49m\n\u001b[0;32m    141\u001b[0m \u001b[43m\u001b[49m\u001b[43m)\u001b[49m\n",
      "File \u001b[1;32m~\\TFM\\Lib\\site-packages\\tensorflow\\python\\eager\\polymorphic_function\\concrete_function.py:1322\u001b[0m, in \u001b[0;36mConcreteFunction._call_flat\u001b[1;34m(self, tensor_inputs, captured_inputs)\u001b[0m\n\u001b[0;32m   1318\u001b[0m possible_gradient_type \u001b[38;5;241m=\u001b[39m gradients_util\u001b[38;5;241m.\u001b[39mPossibleTapeGradientTypes(args)\n\u001b[0;32m   1319\u001b[0m \u001b[38;5;28;01mif\u001b[39;00m (possible_gradient_type \u001b[38;5;241m==\u001b[39m gradients_util\u001b[38;5;241m.\u001b[39mPOSSIBLE_GRADIENT_TYPES_NONE\n\u001b[0;32m   1320\u001b[0m     \u001b[38;5;129;01mand\u001b[39;00m executing_eagerly):\n\u001b[0;32m   1321\u001b[0m   \u001b[38;5;66;03m# No tape is watching; skip to running the function.\u001b[39;00m\n\u001b[1;32m-> 1322\u001b[0m   \u001b[38;5;28;01mreturn\u001b[39;00m \u001b[38;5;28;43mself\u001b[39;49m\u001b[38;5;241;43m.\u001b[39;49m\u001b[43m_inference_function\u001b[49m\u001b[38;5;241;43m.\u001b[39;49m\u001b[43mcall_preflattened\u001b[49m\u001b[43m(\u001b[49m\u001b[43margs\u001b[49m\u001b[43m)\u001b[49m\n\u001b[0;32m   1323\u001b[0m forward_backward \u001b[38;5;241m=\u001b[39m \u001b[38;5;28mself\u001b[39m\u001b[38;5;241m.\u001b[39m_select_forward_and_backward_functions(\n\u001b[0;32m   1324\u001b[0m     args,\n\u001b[0;32m   1325\u001b[0m     possible_gradient_type,\n\u001b[0;32m   1326\u001b[0m     executing_eagerly)\n\u001b[0;32m   1327\u001b[0m forward_function, args_with_tangents \u001b[38;5;241m=\u001b[39m forward_backward\u001b[38;5;241m.\u001b[39mforward()\n",
      "File \u001b[1;32m~\\TFM\\Lib\\site-packages\\tensorflow\\python\\eager\\polymorphic_function\\atomic_function.py:216\u001b[0m, in \u001b[0;36mAtomicFunction.call_preflattened\u001b[1;34m(self, args)\u001b[0m\n\u001b[0;32m    214\u001b[0m \u001b[38;5;28;01mdef\u001b[39;00m \u001b[38;5;21mcall_preflattened\u001b[39m(\u001b[38;5;28mself\u001b[39m, args: Sequence[core\u001b[38;5;241m.\u001b[39mTensor]) \u001b[38;5;241m-\u001b[39m\u001b[38;5;241m>\u001b[39m Any:\n\u001b[0;32m    215\u001b[0m \u001b[38;5;250m  \u001b[39m\u001b[38;5;124;03m\"\"\"Calls with flattened tensor inputs and returns the structured output.\"\"\"\u001b[39;00m\n\u001b[1;32m--> 216\u001b[0m   flat_outputs \u001b[38;5;241m=\u001b[39m \u001b[38;5;28;43mself\u001b[39;49m\u001b[38;5;241;43m.\u001b[39;49m\u001b[43mcall_flat\u001b[49m\u001b[43m(\u001b[49m\u001b[38;5;241;43m*\u001b[39;49m\u001b[43margs\u001b[49m\u001b[43m)\u001b[49m\n\u001b[0;32m    217\u001b[0m   \u001b[38;5;28;01mreturn\u001b[39;00m \u001b[38;5;28mself\u001b[39m\u001b[38;5;241m.\u001b[39mfunction_type\u001b[38;5;241m.\u001b[39mpack_output(flat_outputs)\n",
      "File \u001b[1;32m~\\TFM\\Lib\\site-packages\\tensorflow\\python\\eager\\polymorphic_function\\atomic_function.py:251\u001b[0m, in \u001b[0;36mAtomicFunction.call_flat\u001b[1;34m(self, *args)\u001b[0m\n\u001b[0;32m    249\u001b[0m \u001b[38;5;28;01mwith\u001b[39;00m record\u001b[38;5;241m.\u001b[39mstop_recording():\n\u001b[0;32m    250\u001b[0m   \u001b[38;5;28;01mif\u001b[39;00m \u001b[38;5;28mself\u001b[39m\u001b[38;5;241m.\u001b[39m_bound_context\u001b[38;5;241m.\u001b[39mexecuting_eagerly():\n\u001b[1;32m--> 251\u001b[0m     outputs \u001b[38;5;241m=\u001b[39m \u001b[38;5;28;43mself\u001b[39;49m\u001b[38;5;241;43m.\u001b[39;49m\u001b[43m_bound_context\u001b[49m\u001b[38;5;241;43m.\u001b[39;49m\u001b[43mcall_function\u001b[49m\u001b[43m(\u001b[49m\n\u001b[0;32m    252\u001b[0m \u001b[43m        \u001b[49m\u001b[38;5;28;43mself\u001b[39;49m\u001b[38;5;241;43m.\u001b[39;49m\u001b[43mname\u001b[49m\u001b[43m,\u001b[49m\n\u001b[0;32m    253\u001b[0m \u001b[43m        \u001b[49m\u001b[38;5;28;43mlist\u001b[39;49m\u001b[43m(\u001b[49m\u001b[43margs\u001b[49m\u001b[43m)\u001b[49m\u001b[43m,\u001b[49m\n\u001b[0;32m    254\u001b[0m \u001b[43m        \u001b[49m\u001b[38;5;28;43mlen\u001b[39;49m\u001b[43m(\u001b[49m\u001b[38;5;28;43mself\u001b[39;49m\u001b[38;5;241;43m.\u001b[39;49m\u001b[43mfunction_type\u001b[49m\u001b[38;5;241;43m.\u001b[39;49m\u001b[43mflat_outputs\u001b[49m\u001b[43m)\u001b[49m\u001b[43m,\u001b[49m\n\u001b[0;32m    255\u001b[0m \u001b[43m    \u001b[49m\u001b[43m)\u001b[49m\n\u001b[0;32m    256\u001b[0m   \u001b[38;5;28;01melse\u001b[39;00m:\n\u001b[0;32m    257\u001b[0m     outputs \u001b[38;5;241m=\u001b[39m make_call_op_in_graph(\n\u001b[0;32m    258\u001b[0m         \u001b[38;5;28mself\u001b[39m,\n\u001b[0;32m    259\u001b[0m         \u001b[38;5;28mlist\u001b[39m(args),\n\u001b[0;32m    260\u001b[0m         \u001b[38;5;28mself\u001b[39m\u001b[38;5;241m.\u001b[39m_bound_context\u001b[38;5;241m.\u001b[39mfunction_call_options\u001b[38;5;241m.\u001b[39mas_attrs(),\n\u001b[0;32m    261\u001b[0m     )\n",
      "File \u001b[1;32m~\\TFM\\Lib\\site-packages\\tensorflow\\python\\eager\\context.py:1552\u001b[0m, in \u001b[0;36mContext.call_function\u001b[1;34m(self, name, tensor_inputs, num_outputs)\u001b[0m\n\u001b[0;32m   1550\u001b[0m cancellation_context \u001b[38;5;241m=\u001b[39m cancellation\u001b[38;5;241m.\u001b[39mcontext()\n\u001b[0;32m   1551\u001b[0m \u001b[38;5;28;01mif\u001b[39;00m cancellation_context \u001b[38;5;129;01mis\u001b[39;00m \u001b[38;5;28;01mNone\u001b[39;00m:\n\u001b[1;32m-> 1552\u001b[0m   outputs \u001b[38;5;241m=\u001b[39m \u001b[43mexecute\u001b[49m\u001b[38;5;241;43m.\u001b[39;49m\u001b[43mexecute\u001b[49m\u001b[43m(\u001b[49m\n\u001b[0;32m   1553\u001b[0m \u001b[43m      \u001b[49m\u001b[43mname\u001b[49m\u001b[38;5;241;43m.\u001b[39;49m\u001b[43mdecode\u001b[49m\u001b[43m(\u001b[49m\u001b[38;5;124;43m\"\u001b[39;49m\u001b[38;5;124;43mutf-8\u001b[39;49m\u001b[38;5;124;43m\"\u001b[39;49m\u001b[43m)\u001b[49m\u001b[43m,\u001b[49m\n\u001b[0;32m   1554\u001b[0m \u001b[43m      \u001b[49m\u001b[43mnum_outputs\u001b[49m\u001b[38;5;241;43m=\u001b[39;49m\u001b[43mnum_outputs\u001b[49m\u001b[43m,\u001b[49m\n\u001b[0;32m   1555\u001b[0m \u001b[43m      \u001b[49m\u001b[43minputs\u001b[49m\u001b[38;5;241;43m=\u001b[39;49m\u001b[43mtensor_inputs\u001b[49m\u001b[43m,\u001b[49m\n\u001b[0;32m   1556\u001b[0m \u001b[43m      \u001b[49m\u001b[43mattrs\u001b[49m\u001b[38;5;241;43m=\u001b[39;49m\u001b[43mattrs\u001b[49m\u001b[43m,\u001b[49m\n\u001b[0;32m   1557\u001b[0m \u001b[43m      \u001b[49m\u001b[43mctx\u001b[49m\u001b[38;5;241;43m=\u001b[39;49m\u001b[38;5;28;43mself\u001b[39;49m\u001b[43m,\u001b[49m\n\u001b[0;32m   1558\u001b[0m \u001b[43m  \u001b[49m\u001b[43m)\u001b[49m\n\u001b[0;32m   1559\u001b[0m \u001b[38;5;28;01melse\u001b[39;00m:\n\u001b[0;32m   1560\u001b[0m   outputs \u001b[38;5;241m=\u001b[39m execute\u001b[38;5;241m.\u001b[39mexecute_with_cancellation(\n\u001b[0;32m   1561\u001b[0m       name\u001b[38;5;241m.\u001b[39mdecode(\u001b[38;5;124m\"\u001b[39m\u001b[38;5;124mutf-8\u001b[39m\u001b[38;5;124m\"\u001b[39m),\n\u001b[0;32m   1562\u001b[0m       num_outputs\u001b[38;5;241m=\u001b[39mnum_outputs,\n\u001b[1;32m   (...)\u001b[0m\n\u001b[0;32m   1566\u001b[0m       cancellation_manager\u001b[38;5;241m=\u001b[39mcancellation_context,\n\u001b[0;32m   1567\u001b[0m   )\n",
      "File \u001b[1;32m~\\TFM\\Lib\\site-packages\\tensorflow\\python\\eager\\execute.py:53\u001b[0m, in \u001b[0;36mquick_execute\u001b[1;34m(op_name, num_outputs, inputs, attrs, ctx, name)\u001b[0m\n\u001b[0;32m     51\u001b[0m \u001b[38;5;28;01mtry\u001b[39;00m:\n\u001b[0;32m     52\u001b[0m   ctx\u001b[38;5;241m.\u001b[39mensure_initialized()\n\u001b[1;32m---> 53\u001b[0m   tensors \u001b[38;5;241m=\u001b[39m \u001b[43mpywrap_tfe\u001b[49m\u001b[38;5;241;43m.\u001b[39;49m\u001b[43mTFE_Py_Execute\u001b[49m\u001b[43m(\u001b[49m\u001b[43mctx\u001b[49m\u001b[38;5;241;43m.\u001b[39;49m\u001b[43m_handle\u001b[49m\u001b[43m,\u001b[49m\u001b[43m \u001b[49m\u001b[43mdevice_name\u001b[49m\u001b[43m,\u001b[49m\u001b[43m \u001b[49m\u001b[43mop_name\u001b[49m\u001b[43m,\u001b[49m\n\u001b[0;32m     54\u001b[0m \u001b[43m                                      \u001b[49m\u001b[43minputs\u001b[49m\u001b[43m,\u001b[49m\u001b[43m \u001b[49m\u001b[43mattrs\u001b[49m\u001b[43m,\u001b[49m\u001b[43m \u001b[49m\u001b[43mnum_outputs\u001b[49m\u001b[43m)\u001b[49m\n\u001b[0;32m     55\u001b[0m \u001b[38;5;28;01mexcept\u001b[39;00m core\u001b[38;5;241m.\u001b[39m_NotOkStatusException \u001b[38;5;28;01mas\u001b[39;00m e:\n\u001b[0;32m     56\u001b[0m   \u001b[38;5;28;01mif\u001b[39;00m name \u001b[38;5;129;01mis\u001b[39;00m \u001b[38;5;129;01mnot\u001b[39;00m \u001b[38;5;28;01mNone\u001b[39;00m:\n",
      "\u001b[1;31mKeyboardInterrupt\u001b[0m: "
     ]
    }
   ],
   "source": [
    "# Entrenar el modelo\n",
    "history = model.fit(X_train, y_train, epochs=50, batch_size=32, validation_split=0.2)"
   ]
  },
  {
   "cell_type": "code",
   "execution_count": 10,
   "id": "ed7e81cc-3cfc-4fd9-9372-2fafc3e23d57",
   "metadata": {
    "scrolled": false
   },
   "outputs": [
    {
     "name": "stdout",
     "output_type": "stream",
     "text": [
      "Epoch 1/25\n",
      "\u001b[1m1452/1452\u001b[0m \u001b[32m━━━━━━━━━━━━━━━━━━━━\u001b[0m\u001b[37m\u001b[0m \u001b[1m114s\u001b[0m 75ms/step - accuracy: 0.8354 - loss: 0.4705 - val_accuracy: 0.9783 - val_loss: 0.0622\n",
      "Epoch 2/25\n",
      "\u001b[1m1452/1452\u001b[0m \u001b[32m━━━━━━━━━━━━━━━━━━━━\u001b[0m\u001b[37m\u001b[0m \u001b[1m105s\u001b[0m 72ms/step - accuracy: 0.9849 - loss: 0.0506 - val_accuracy: 0.9952 - val_loss: 0.0205\n",
      "Epoch 3/25\n",
      "\u001b[1m1452/1452\u001b[0m \u001b[32m━━━━━━━━━━━━━━━━━━━━\u001b[0m\u001b[37m\u001b[0m \u001b[1m105s\u001b[0m 72ms/step - accuracy: 0.9914 - loss: 0.0327 - val_accuracy: 0.9966 - val_loss: 0.0210\n",
      "Epoch 4/25\n",
      "\u001b[1m1452/1452\u001b[0m \u001b[32m━━━━━━━━━━━━━━━━━━━━\u001b[0m\u001b[37m\u001b[0m \u001b[1m104s\u001b[0m 72ms/step - accuracy: 0.9864 - loss: 0.0430 - val_accuracy: 0.9987 - val_loss: 0.0053\n",
      "Epoch 5/25\n",
      "\u001b[1m1452/1452\u001b[0m \u001b[32m━━━━━━━━━━━━━━━━━━━━\u001b[0m\u001b[37m\u001b[0m \u001b[1m106s\u001b[0m 73ms/step - accuracy: 0.9968 - loss: 0.0107 - val_accuracy: 0.9867 - val_loss: 0.0424\n",
      "Epoch 6/25\n",
      "\u001b[1m1452/1452\u001b[0m \u001b[32m━━━━━━━━━━━━━━━━━━━━\u001b[0m\u001b[37m\u001b[0m \u001b[1m104s\u001b[0m 71ms/step - accuracy: 0.9903 - loss: 0.0327 - val_accuracy: 0.9993 - val_loss: 0.0038\n",
      "Epoch 7/25\n",
      "\u001b[1m1452/1452\u001b[0m \u001b[32m━━━━━━━━━━━━━━━━━━━━\u001b[0m\u001b[37m\u001b[0m \u001b[1m101s\u001b[0m 70ms/step - accuracy: 0.9884 - loss: 0.0379 - val_accuracy: 0.9992 - val_loss: 0.0028\n",
      "Epoch 8/25\n",
      "\u001b[1m1452/1452\u001b[0m \u001b[32m━━━━━━━━━━━━━━━━━━━━\u001b[0m\u001b[37m\u001b[0m \u001b[1m102s\u001b[0m 70ms/step - accuracy: 0.9977 - loss: 0.0078 - val_accuracy: 0.9999 - val_loss: 6.1725e-04\n",
      "Epoch 9/25\n",
      "\u001b[1m1452/1452\u001b[0m \u001b[32m━━━━━━━━━━━━━━━━━━━━\u001b[0m\u001b[37m\u001b[0m \u001b[1m101s\u001b[0m 69ms/step - accuracy: 0.9991 - loss: 0.0033 - val_accuracy: 0.9976 - val_loss: 0.0100\n",
      "Epoch 10/25\n",
      "\u001b[1m1452/1452\u001b[0m \u001b[32m━━━━━━━━━━━━━━━━━━━━\u001b[0m\u001b[37m\u001b[0m \u001b[1m97s\u001b[0m 67ms/step - accuracy: 0.9931 - loss: 0.0228 - val_accuracy: 0.9999 - val_loss: 8.7934e-04\n",
      "Epoch 11/25\n",
      "\u001b[1m1452/1452\u001b[0m \u001b[32m━━━━━━━━━━━━━━━━━━━━\u001b[0m\u001b[37m\u001b[0m \u001b[1m93s\u001b[0m 64ms/step - accuracy: 0.9962 - loss: 0.0143 - val_accuracy: 0.9995 - val_loss: 0.0028\n"
     ]
    }
   ],
   "source": [
    "es_callback = keras.callbacks.EarlyStopping(\n",
    "    monitor=\"accuracy\", min_delta=0.0001, patience=3)\n",
    "\n",
    "history = model.fit(\n",
    "    X_train, y_train,\n",
    "    epochs=25,\n",
    "    validation_split=0.2,\n",
    "    callbacks=[es_callback]\n",
    ")"
   ]
  },
  {
   "cell_type": "code",
   "execution_count": 20,
   "id": "303b7f39",
   "metadata": {},
   "outputs": [
    {
     "data": {
      "image/png": "[encoded data removed]",
      "text/plain": [
       "<Figure size 1300x1000 with 2 Axes>"
      ]
     },
     "metadata": {},
     "output_type": "display_data"
    }
   ],
   "source": [
    "# Visualizar la evolución del modelo\n",
    "accuracy = history.history['accuracy']\n",
    "val_accuracy = history.history['val_accuracy']\n",
    "loss = history.history['loss']\n",
    "val_loss = history.history['val_loss']\n",
    "\n",
    "# Número de epochs\n",
    "epochs = range(1, len(accuracy) + 1)\n",
    "\n",
    "# Crear la gráfica para accuracy\n",
    "plt.figure(figsize=(13,10))\n",
    "\n",
    "plt.subplot(2, 1, 1)\n",
    "plt.plot(epochs, accuracy, 'b', label='Training accuracy')\n",
    "plt.plot(epochs, val_accuracy, 'r', label='Validation accuracy')\n",
    "plt.title('Training and validation accuracy')\n",
    "plt.xlabel('Epochs')\n",
    "plt.ylabel('Accuracy')\n",
    "plt.legend()\n",
    "\n",
    "# Crear la gráfica para loss\n",
    "plt.subplot(2, 1, 2)\n",
    "plt.plot(epochs, loss, 'b', label='Training loss')\n",
    "plt.plot(epochs, val_loss, 'r', label='Validation loss')\n",
    "plt.title('Training and validation loss')\n",
    "plt.xlabel('Epochs')\n",
    "plt.ylabel('Loss')\n",
    "plt.legend()\n",
    "\n",
    "\n",
    "plt.show()"
   ]
  },
  {
   "cell_type": "code",
   "execution_count": 19,
   "id": "51b6cc21-4145-4990-909f-208380ee39c1",
   "metadata": {},
   "outputs": [
    {
     "name": "stdout",
     "output_type": "stream",
     "text": [
      "\u001b[1m454/454\u001b[0m \u001b[32m━━━━━━━━━━━━━━━━━━━━\u001b[0m\u001b[37m\u001b[0m \u001b[1m7s\u001b[0m 15ms/step - accuracy: 1.0000 - loss: 3.6493e-04\n",
      "Test Accuracy: 100.00%\n"
     ]
    }
   ],
   "source": [
    "# Evaluar el modelo\n",
    "loss, accuracy = model.evaluate(X_test, y_test)\n",
    "print(f\"Test Accuracy: {accuracy * 100:.2f}%\")"
   ]
  },
  {
   "cell_type": "markdown",
   "id": "3f47ddaf",
   "metadata": {},
   "source": [
    "Guardamos el modelo"
   ]
  },
  {
   "cell_type": "code",
   "execution_count": null,
   "id": "29c0254e-c6f8-49bd-9693-b3b63d3084f8",
   "metadata": {
    "scrolled": true
   },
   "outputs": [],
   "source": [
    "model.save('C:/Users/Legion/TFM/Tareas/Models/classification_model_seq100.h5')"
   ]
  },
  {
   "cell_type": "code",
   "execution_count": 21,
   "id": "59e83c40-69c0-4fb1-9bc2-34c2ccd4fec0",
   "metadata": {},
   "outputs": [],
   "source": [
    "keras.saving.save_model(model, 'C:/Users/Legion/TFM/Tareas/Models/classification_model_seq100.keras')"
   ]
  },
  {
   "cell_type": "code",
   "execution_count": 22,
   "id": "024778c9-8b9e-4f81-a725-c852ce763eea",
   "metadata": {},
   "outputs": [],
   "source": [
    "import pickle\n",
    "with open('C:/Users/Legion/TFM/Tareas/Models/classification_model_seq100.pickle', 'wb') as archivo:\n",
    "    pickle.dump(model, archivo)"
   ]
  },
  {
   "cell_type": "markdown",
   "id": "4ca22a47",
   "metadata": {},
   "source": [
    "Prueba del modelo"
   ]
  },
  {
   "cell_type": "code",
   "execution_count": null,
   "id": "2e0c3e52-ac3a-42a7-bd16-ba9cb167c02f",
   "metadata": {
    "scrolled": true
   },
   "outputs": [],
   "source": [
    "dfprueba = pd.read_csv('C:/Users/Legion/TFM/Tareas/VideosTR/PruebasDeModelo/SentadillaPr.csv', sep=';', index_col=0)\n",
    "dfprueba['label'] = [3 for c in range(len(dfprueba))]\n",
    "seqprueba, lblprueba, ncols = create_sequences(df, sequence_length)\n"
   ]
  },
  {
   "cell_type": "code",
   "execution_count": 56,
   "id": "58383c6b-21dc-4299-bd68-d9d172bd544f",
   "metadata": {},
   "outputs": [
    {
     "data": {
      "text/html": [
       "<div>\n",
       "<style scoped>\n",
       "    .dataframe tbody tr th:only-of-type {\n",
       "        vertical-align: middle;\n",
       "    }\n",
       "\n",
       "    .dataframe tbody tr th {\n",
       "        vertical-align: top;\n",
       "    }\n",
       "\n",
       "    .dataframe thead th {\n",
       "        text-align: right;\n",
       "    }\n",
       "</style>\n",
       "<table border=\"1\" class=\"dataframe\">\n",
       "  <thead>\n",
       "    <tr style=\"text-align: right;\">\n",
       "      <th></th>\n",
       "      <th>NOSE_x</th>\n",
       "      <th>NOSE_y</th>\n",
       "      <th>NOSE_z</th>\n",
       "      <th>LEFT_SHOULDER_x</th>\n",
       "      <th>LEFT_SHOULDER_y</th>\n",
       "      <th>LEFT_SHOULDER_z</th>\n",
       "      <th>RIGHT_SHOULDER_x</th>\n",
       "      <th>RIGHT_SHOULDER_y</th>\n",
       "      <th>RIGHT_SHOULDER_z</th>\n",
       "      <th>LEFT_ELBOW_x</th>\n",
       "      <th>...</th>\n",
       "      <th>RIGHT_KNEE_x</th>\n",
       "      <th>RIGHT_KNEE_y</th>\n",
       "      <th>RIGHT_KNEE_z</th>\n",
       "      <th>LEFT_ANKLE_x</th>\n",
       "      <th>LEFT_ANKLE_y</th>\n",
       "      <th>LEFT_ANKLE_z</th>\n",
       "      <th>RIGHT_ANKLE_x</th>\n",
       "      <th>RIGHT_ANKLE_y</th>\n",
       "      <th>RIGHT_ANKLE_z</th>\n",
       "      <th>label</th>\n",
       "    </tr>\n",
       "  </thead>\n",
       "  <tbody>\n",
       "    <tr>\n",
       "      <th>0</th>\n",
       "      <td>0.254463</td>\n",
       "      <td>1.0</td>\n",
       "      <td>0.475044</td>\n",
       "      <td>0.261630</td>\n",
       "      <td>0.856578</td>\n",
       "      <td>0.950855</td>\n",
       "      <td>0.038177</td>\n",
       "      <td>0.933296</td>\n",
       "      <td>0.393201</td>\n",
       "      <td>0.564076</td>\n",
       "      <td>...</td>\n",
       "      <td>0.085935</td>\n",
       "      <td>0.313296</td>\n",
       "      <td>0.212139</td>\n",
       "      <td>0.160806</td>\n",
       "      <td>0.055263</td>\n",
       "      <td>0.858689</td>\n",
       "      <td>0.000000</td>\n",
       "      <td>0.0</td>\n",
       "      <td>0.135494</td>\n",
       "      <td>Sentadilla_Prueb</td>\n",
       "    </tr>\n",
       "    <tr>\n",
       "      <th>1</th>\n",
       "      <td>0.270753</td>\n",
       "      <td>1.0</td>\n",
       "      <td>0.497388</td>\n",
       "      <td>0.281052</td>\n",
       "      <td>0.855999</td>\n",
       "      <td>0.947985</td>\n",
       "      <td>0.044158</td>\n",
       "      <td>0.930866</td>\n",
       "      <td>0.418478</td>\n",
       "      <td>0.574596</td>\n",
       "      <td>...</td>\n",
       "      <td>0.090455</td>\n",
       "      <td>0.313073</td>\n",
       "      <td>0.392489</td>\n",
       "      <td>0.211237</td>\n",
       "      <td>0.058708</td>\n",
       "      <td>1.000000</td>\n",
       "      <td>0.000000</td>\n",
       "      <td>0.0</td>\n",
       "      <td>0.348671</td>\n",
       "      <td>Sentadilla_Prueb</td>\n",
       "    </tr>\n",
       "    <tr>\n",
       "      <th>2</th>\n",
       "      <td>0.279818</td>\n",
       "      <td>1.0</td>\n",
       "      <td>0.518807</td>\n",
       "      <td>0.288824</td>\n",
       "      <td>0.854549</td>\n",
       "      <td>0.945792</td>\n",
       "      <td>0.048975</td>\n",
       "      <td>0.928853</td>\n",
       "      <td>0.440783</td>\n",
       "      <td>0.580790</td>\n",
       "      <td>...</td>\n",
       "      <td>0.093826</td>\n",
       "      <td>0.311598</td>\n",
       "      <td>0.418993</td>\n",
       "      <td>0.228623</td>\n",
       "      <td>0.058844</td>\n",
       "      <td>1.000000</td>\n",
       "      <td>0.000000</td>\n",
       "      <td>0.0</td>\n",
       "      <td>0.377385</td>\n",
       "      <td>Sentadilla_Prueb</td>\n",
       "    </tr>\n",
       "    <tr>\n",
       "      <th>3</th>\n",
       "      <td>0.279654</td>\n",
       "      <td>1.0</td>\n",
       "      <td>0.525229</td>\n",
       "      <td>0.290991</td>\n",
       "      <td>0.853932</td>\n",
       "      <td>0.965555</td>\n",
       "      <td>0.052241</td>\n",
       "      <td>0.927329</td>\n",
       "      <td>0.445820</td>\n",
       "      <td>0.583425</td>\n",
       "      <td>...</td>\n",
       "      <td>0.097231</td>\n",
       "      <td>0.309308</td>\n",
       "      <td>0.427577</td>\n",
       "      <td>0.231596</td>\n",
       "      <td>0.055284</td>\n",
       "      <td>1.000000</td>\n",
       "      <td>0.000000</td>\n",
       "      <td>0.0</td>\n",
       "      <td>0.419518</td>\n",
       "      <td>Sentadilla_Prueb</td>\n",
       "    </tr>\n",
       "    <tr>\n",
       "      <th>4</th>\n",
       "      <td>0.279721</td>\n",
       "      <td>1.0</td>\n",
       "      <td>0.523170</td>\n",
       "      <td>0.292232</td>\n",
       "      <td>0.853586</td>\n",
       "      <td>0.967498</td>\n",
       "      <td>0.051761</td>\n",
       "      <td>0.925912</td>\n",
       "      <td>0.458297</td>\n",
       "      <td>0.584628</td>\n",
       "      <td>...</td>\n",
       "      <td>0.098536</td>\n",
       "      <td>0.305827</td>\n",
       "      <td>0.453302</td>\n",
       "      <td>0.232834</td>\n",
       "      <td>0.051954</td>\n",
       "      <td>1.000000</td>\n",
       "      <td>0.000000</td>\n",
       "      <td>0.0</td>\n",
       "      <td>0.448897</td>\n",
       "      <td>Sentadilla_Prueb</td>\n",
       "    </tr>\n",
       "    <tr>\n",
       "      <th>...</th>\n",
       "      <td>...</td>\n",
       "      <td>...</td>\n",
       "      <td>...</td>\n",
       "      <td>...</td>\n",
       "      <td>...</td>\n",
       "      <td>...</td>\n",
       "      <td>...</td>\n",
       "      <td>...</td>\n",
       "      <td>...</td>\n",
       "      <td>...</td>\n",
       "      <td>...</td>\n",
       "      <td>...</td>\n",
       "      <td>...</td>\n",
       "      <td>...</td>\n",
       "      <td>...</td>\n",
       "      <td>...</td>\n",
       "      <td>...</td>\n",
       "      <td>...</td>\n",
       "      <td>...</td>\n",
       "      <td>...</td>\n",
       "      <td>...</td>\n",
       "    </tr>\n",
       "    <tr>\n",
       "      <th>293</th>\n",
       "      <td>0.298004</td>\n",
       "      <td>1.0</td>\n",
       "      <td>0.391467</td>\n",
       "      <td>0.384229</td>\n",
       "      <td>0.838290</td>\n",
       "      <td>0.771978</td>\n",
       "      <td>0.073747</td>\n",
       "      <td>0.897929</td>\n",
       "      <td>0.434783</td>\n",
       "      <td>0.565805</td>\n",
       "      <td>...</td>\n",
       "      <td>0.092773</td>\n",
       "      <td>0.295137</td>\n",
       "      <td>0.321774</td>\n",
       "      <td>0.264046</td>\n",
       "      <td>0.054644</td>\n",
       "      <td>1.000000</td>\n",
       "      <td>0.000000</td>\n",
       "      <td>0.0</td>\n",
       "      <td>0.248506</td>\n",
       "      <td>Sentadilla_Prueb</td>\n",
       "    </tr>\n",
       "    <tr>\n",
       "      <th>294</th>\n",
       "      <td>0.330232</td>\n",
       "      <td>1.0</td>\n",
       "      <td>0.299238</td>\n",
       "      <td>0.427138</td>\n",
       "      <td>0.836448</td>\n",
       "      <td>0.693693</td>\n",
       "      <td>0.072671</td>\n",
       "      <td>0.895994</td>\n",
       "      <td>0.333329</td>\n",
       "      <td>0.592548</td>\n",
       "      <td>...</td>\n",
       "      <td>0.109843</td>\n",
       "      <td>0.289839</td>\n",
       "      <td>0.255705</td>\n",
       "      <td>0.298615</td>\n",
       "      <td>0.054403</td>\n",
       "      <td>1.000000</td>\n",
       "      <td>0.000000</td>\n",
       "      <td>0.0</td>\n",
       "      <td>0.194975</td>\n",
       "      <td>Sentadilla_Prueb</td>\n",
       "    </tr>\n",
       "    <tr>\n",
       "      <th>295</th>\n",
       "      <td>0.390350</td>\n",
       "      <td>1.0</td>\n",
       "      <td>0.279040</td>\n",
       "      <td>0.498063</td>\n",
       "      <td>0.834855</td>\n",
       "      <td>0.684721</td>\n",
       "      <td>0.100949</td>\n",
       "      <td>0.895182</td>\n",
       "      <td>0.327767</td>\n",
       "      <td>0.658794</td>\n",
       "      <td>...</td>\n",
       "      <td>0.139794</td>\n",
       "      <td>0.276052</td>\n",
       "      <td>0.287207</td>\n",
       "      <td>0.354479</td>\n",
       "      <td>0.054450</td>\n",
       "      <td>1.000000</td>\n",
       "      <td>0.018209</td>\n",
       "      <td>0.0</td>\n",
       "      <td>0.245034</td>\n",
       "      <td>Sentadilla_Prueb</td>\n",
       "    </tr>\n",
       "    <tr>\n",
       "      <th>296</th>\n",
       "      <td>0.507475</td>\n",
       "      <td>1.0</td>\n",
       "      <td>0.142846</td>\n",
       "      <td>0.626590</td>\n",
       "      <td>0.830313</td>\n",
       "      <td>0.532476</td>\n",
       "      <td>0.163397</td>\n",
       "      <td>0.892084</td>\n",
       "      <td>0.236192</td>\n",
       "      <td>0.756438</td>\n",
       "      <td>...</td>\n",
       "      <td>0.226902</td>\n",
       "      <td>0.267338</td>\n",
       "      <td>0.343882</td>\n",
       "      <td>0.467463</td>\n",
       "      <td>0.055730</td>\n",
       "      <td>1.000000</td>\n",
       "      <td>0.100583</td>\n",
       "      <td>0.0</td>\n",
       "      <td>0.353528</td>\n",
       "      <td>Sentadilla_Prueb</td>\n",
       "    </tr>\n",
       "    <tr>\n",
       "      <th>297</th>\n",
       "      <td>0.651032</td>\n",
       "      <td>1.0</td>\n",
       "      <td>0.032890</td>\n",
       "      <td>0.797316</td>\n",
       "      <td>0.827640</td>\n",
       "      <td>0.490949</td>\n",
       "      <td>0.218908</td>\n",
       "      <td>0.889535</td>\n",
       "      <td>0.184046</td>\n",
       "      <td>0.875056</td>\n",
       "      <td>...</td>\n",
       "      <td>0.335934</td>\n",
       "      <td>0.267247</td>\n",
       "      <td>0.337035</td>\n",
       "      <td>0.613635</td>\n",
       "      <td>0.055808</td>\n",
       "      <td>1.000000</td>\n",
       "      <td>0.189464</td>\n",
       "      <td>0.0</td>\n",
       "      <td>0.298713</td>\n",
       "      <td>Sentadilla_Prueb</td>\n",
       "    </tr>\n",
       "  </tbody>\n",
       "</table>\n",
       "<p>298 rows × 58 columns</p>\n",
       "</div>"
      ],
      "text/plain": [
       "       NOSE_x  NOSE_y    NOSE_z  LEFT_SHOULDER_x  LEFT_SHOULDER_y  \\\n",
       "0    0.254463     1.0  0.475044         0.261630         0.856578   \n",
       "1    0.270753     1.0  0.497388         0.281052         0.855999   \n",
       "2    0.279818     1.0  0.518807         0.288824         0.854549   \n",
       "3    0.279654     1.0  0.525229         0.290991         0.853932   \n",
       "4    0.279721     1.0  0.523170         0.292232         0.853586   \n",
       "..        ...     ...       ...              ...              ...   \n",
       "293  0.298004     1.0  0.391467         0.384229         0.838290   \n",
       "294  0.330232     1.0  0.299238         0.427138         0.836448   \n",
       "295  0.390350     1.0  0.279040         0.498063         0.834855   \n",
       "296  0.507475     1.0  0.142846         0.626590         0.830313   \n",
       "297  0.651032     1.0  0.032890         0.797316         0.827640   \n",
       "\n",
       "     LEFT_SHOULDER_z  RIGHT_SHOULDER_x  RIGHT_SHOULDER_y  RIGHT_SHOULDER_z  \\\n",
       "0           0.950855          0.038177          0.933296          0.393201   \n",
       "1           0.947985          0.044158          0.930866          0.418478   \n",
       "2           0.945792          0.048975          0.928853          0.440783   \n",
       "3           0.965555          0.052241          0.927329          0.445820   \n",
       "4           0.967498          0.051761          0.925912          0.458297   \n",
       "..               ...               ...               ...               ...   \n",
       "293         0.771978          0.073747          0.897929          0.434783   \n",
       "294         0.693693          0.072671          0.895994          0.333329   \n",
       "295         0.684721          0.100949          0.895182          0.327767   \n",
       "296         0.532476          0.163397          0.892084          0.236192   \n",
       "297         0.490949          0.218908          0.889535          0.184046   \n",
       "\n",
       "     LEFT_ELBOW_x  ...  RIGHT_KNEE_x  RIGHT_KNEE_y  RIGHT_KNEE_z  \\\n",
       "0        0.564076  ...      0.085935      0.313296      0.212139   \n",
       "1        0.574596  ...      0.090455      0.313073      0.392489   \n",
       "2        0.580790  ...      0.093826      0.311598      0.418993   \n",
       "3        0.583425  ...      0.097231      0.309308      0.427577   \n",
       "4        0.584628  ...      0.098536      0.305827      0.453302   \n",
       "..            ...  ...           ...           ...           ...   \n",
       "293      0.565805  ...      0.092773      0.295137      0.321774   \n",
       "294      0.592548  ...      0.109843      0.289839      0.255705   \n",
       "295      0.658794  ...      0.139794      0.276052      0.287207   \n",
       "296      0.756438  ...      0.226902      0.267338      0.343882   \n",
       "297      0.875056  ...      0.335934      0.267247      0.337035   \n",
       "\n",
       "     LEFT_ANKLE_x  LEFT_ANKLE_y  LEFT_ANKLE_z  RIGHT_ANKLE_x  RIGHT_ANKLE_y  \\\n",
       "0        0.160806      0.055263      0.858689       0.000000            0.0   \n",
       "1        0.211237      0.058708      1.000000       0.000000            0.0   \n",
       "2        0.228623      0.058844      1.000000       0.000000            0.0   \n",
       "3        0.231596      0.055284      1.000000       0.000000            0.0   \n",
       "4        0.232834      0.051954      1.000000       0.000000            0.0   \n",
       "..            ...           ...           ...            ...            ...   \n",
       "293      0.264046      0.054644      1.000000       0.000000            0.0   \n",
       "294      0.298615      0.054403      1.000000       0.000000            0.0   \n",
       "295      0.354479      0.054450      1.000000       0.018209            0.0   \n",
       "296      0.467463      0.055730      1.000000       0.100583            0.0   \n",
       "297      0.613635      0.055808      1.000000       0.189464            0.0   \n",
       "\n",
       "     RIGHT_ANKLE_z             label  \n",
       "0         0.135494  Sentadilla_Prueb  \n",
       "1         0.348671  Sentadilla_Prueb  \n",
       "2         0.377385  Sentadilla_Prueb  \n",
       "3         0.419518  Sentadilla_Prueb  \n",
       "4         0.448897  Sentadilla_Prueb  \n",
       "..             ...               ...  \n",
       "293       0.248506  Sentadilla_Prueb  \n",
       "294       0.194975  Sentadilla_Prueb  \n",
       "295       0.245034  Sentadilla_Prueb  \n",
       "296       0.353528  Sentadilla_Prueb  \n",
       "297       0.298713  Sentadilla_Prueb  \n",
       "\n",
       "[298 rows x 58 columns]"
      ]
     },
     "execution_count": 56,
     "metadata": {},
     "output_type": "execute_result"
    }
   ],
   "source": [
    "dfprueba"
   ]
  },
  {
   "cell_type": "code",
   "execution_count": 58,
   "id": "255f13a9-6282-4ee0-af51-ce216a91a31a",
   "metadata": {},
   "outputs": [
    {
     "name": "stdout",
     "output_type": "stream",
     "text": [
      "\u001b[1m10/10\u001b[0m \u001b[32m━━━━━━━━━━━━━━━━━━━━\u001b[0m\u001b[37m\u001b[0m \u001b[1m1s\u001b[0m 55ms/step\n"
     ]
    }
   ],
   "source": [
    "y_pred = model.predict(seqprueba)"
   ]
  },
  {
   "cell_type": "code",
   "execution_count": null,
   "id": "9bfc23d3-70af-46b1-98d7-12fc3e7094b8",
   "metadata": {
    "scrolled": true
   },
   "outputs": [],
   "source": [
    "from collections import Counter\n",
    "\n",
    "preds = [np.argmax(x) for x in y_pred]\n",
    "count_preds = Counter(preds)\n",
    "final_pred_num = count_preds.most_common(1)[0]\n",
    "num_to_excercise = {0: 'Dominada', 1: 'Fondo',\n",
    "                    2: 'Flexión', 3: 'Sentadilla'}\n",
    "predicted_excercise = num_to_excercise[final_pred_num[0]]"
   ]
  },
  {
   "cell_type": "markdown",
   "id": "7ec4ddec-36b0-4308-8957-152d1339d667",
   "metadata": {},
   "source": [
    "# k-NN Model"
   ]
  },
  {
   "cell_type": "code",
   "execution_count": 2,
   "id": "79c1f337-88f5-4dee-b47d-b304902b617a",
   "metadata": {},
   "outputs": [],
   "source": [
    "# leer todos los training datasets\n",
    "vid_list = os.listdir(workpath+'/VideosTR/Data2model')\n",
    "abs_paths_csv = [workpath+'/VideosTR/Data2model/'+x for x in vid_list if '.csv' in x]\n",
    "list_dfs = []\n",
    "for csv in abs_paths_csv:\n",
    "    list_dfs.append(pd.read_csv(csv, sep=';', index_col=0))\n",
    "\n",
    "data = pd.concat(list_dfs)\n",
    "del list_dfs\n",
    "\n",
    "Y = data[['label']]\n",
    "X = data.drop(columns='label')\n",
    "\n",
    "X_train, X_test, y_train, y_test = train_test_split(X, Y, test_size=0.2, random_state=7294, stratify=Y)\n"
   ]
  },
  {
   "cell_type": "code",
   "execution_count": null,
   "id": "ac5d0d79-1d11-4bcb-a814-6ed55740c890",
   "metadata": {},
   "outputs": [
    {
     "name": "stdout",
     "output_type": "stream",
     "text": [
      "Modelo con k = 3\n"
     ]
    },
    {
     "name": "stderr",
     "output_type": "stream",
     "text": [
      "C:\\Users\\Bruno\\TFM\\Lib\\site-packages\\sklearn\\neighbors\\_classification.py:238: DataConversionWarning: A column-vector y was passed when a 1d array was expected. Please change the shape of y to (n_samples,), for example using ravel().\n",
      "  return self._fit(X, y)\n"
     ]
    },
    {
     "name": "stdout",
     "output_type": "stream",
     "text": [
      "Precisión del modelo: 93.25%\n",
      "Modelo con k = 4\n"
     ]
    },
    {
     "name": "stderr",
     "output_type": "stream",
     "text": [
      "C:\\Users\\Bruno\\TFM\\Lib\\site-packages\\sklearn\\neighbors\\_classification.py:238: DataConversionWarning: A column-vector y was passed when a 1d array was expected. Please change the shape of y to (n_samples,), for example using ravel().\n",
      "  return self._fit(X, y)\n"
     ]
    },
    {
     "name": "stdout",
     "output_type": "stream",
     "text": [
      "Precisión del modelo: 92.93%\n",
      "Modelo con k = 5\n"
     ]
    },
    {
     "name": "stderr",
     "output_type": "stream",
     "text": [
      "C:\\Users\\Bruno\\TFM\\Lib\\site-packages\\sklearn\\neighbors\\_classification.py:238: DataConversionWarning: A column-vector y was passed when a 1d array was expected. Please change the shape of y to (n_samples,), for example using ravel().\n",
      "  return self._fit(X, y)\n"
     ]
    }
   ],
   "source": [
    "def knn_try(X_train, X_test, y_train, y_test, k):\n",
    "    knn = KNeighborsClassifier(n_neighbors=k)\n",
    "    print(f'Modelo con k = {k}')\n",
    "    # Entrenar el modelo\n",
    "    knn.fit(X_train, y_train)\n",
    "    y_pred = knn.predict(X_test)\n",
    "    # Calcular la precisión del modelo\n",
    "    accuracy = accuracy_score(y_test, y_pred)\n",
    "    print(f'Precisión del modelo: {accuracy * 100:.2f}%')\n",
    "    return knn\n",
    "\n",
    "for k in range(3, 8):\n",
    "    knn_try(X_train, X_test, y_train, y_test, k)\n",
    "    "
   ]
  },
  {
   "cell_type": "code",
   "execution_count": 7,
   "id": "adb7bfae-ad08-496b-938b-7312041b186e",
   "metadata": {},
   "outputs": [
    {
     "name": "stdout",
     "output_type": "stream",
     "text": [
      "Modelo con k = 3\n"
     ]
    },
    {
     "name": "stderr",
     "output_type": "stream",
     "text": [
      "C:\\Users\\Bruno\\TFM\\Lib\\site-packages\\sklearn\\neighbors\\_classification.py:238: DataConversionWarning: A column-vector y was passed when a 1d array was expected. Please change the shape of y to (n_samples,), for example using ravel().\n",
      "  return self._fit(X, y)\n"
     ]
    },
    {
     "name": "stdout",
     "output_type": "stream",
     "text": [
      "Precisión del modelo: 95.56%\n"
     ]
    }
   ],
   "source": [
    "modelo_k3 = knn_try(X_train, X_test, y_train, y_test, 3)"
   ]
  },
  {
   "cell_type": "code",
   "execution_count": 8,
   "id": "12d56208-1f8f-4747-ac85-f65ece1a119b",
   "metadata": {},
   "outputs": [],
   "source": [
    "import pickle\n",
    "with open('C:/Users/Bruno/TFM/Tareas/Models/classification_model_knn3.pickle', 'wb') as archivo:\n",
    "    pickle.dump(modelo_k3, archivo)"
   ]
  }
 ],
 "metadata": {
  "kernelspec": {
   "display_name": ".venv",
   "language": "python",
   "name": "python3"
  },
  "language_info": {
   "codemirror_mode": {
    "name": "ipython",
    "version": 3
   },
   "file_extension": ".py",
   "mimetype": "text/x-python",
   "name": "python",
   "nbconvert_exporter": "python",
   "pygments_lexer": "ipython3",
   "version": "3.11.9"
  }
 },
 "nbformat": 4,
 "nbformat_minor": 5
}
